{
  "nbformat": 4,
  "nbformat_minor": 0,
  "metadata": {
    "colab": {
      "name": "05 Interpretation of RandomForrest.ipynb",
      "provenance": [],
      "include_colab_link": true
    },
    "kernelspec": {
      "name": "python3",
      "display_name": "Python 3"
    },
    "accelerator": "GPU"
  },
  "cells": [
    {
      "cell_type": "markdown",
      "metadata": {
        "id": "view-in-github",
        "colab_type": "text"
      },
      "source": [
        "<a href=\"https://colab.research.google.com/github/Nielspace/Learning-DataScience/blob/master/05_Interpretation_of_RandomForrest.ipynb\" target=\"_parent\"><img src=\"https://colab.research.google.com/assets/colab-badge.svg\" alt=\"Open In Colab\"/></a>"
      ]
    },
    {
      "cell_type": "code",
      "metadata": {
        "id": "OVBSSx9LhD4w",
        "colab_type": "code",
        "colab": {
          "base_uri": "https://localhost:8080/",
          "height": 124
        },
        "outputId": "2453f122-0c4f-476b-ceec-9d3cc55edc42"
      },
      "source": [
        "from google.colab import drive\n",
        "drive.mount('/content/drive')"
      ],
      "execution_count": 1,
      "outputs": [
        {
          "output_type": "stream",
          "text": [
            "Go to this URL in a browser: https://accounts.google.com/o/oauth2/auth?client_id=947318989803-6bn6qk8qdgf4n4g3pfee6491hc0brc4i.apps.googleusercontent.com&redirect_uri=urn%3Aietf%3Awg%3Aoauth%3A2.0%3Aoob&scope=email%20https%3A%2F%2Fwww.googleapis.com%2Fauth%2Fdocs.test%20https%3A%2F%2Fwww.googleapis.com%2Fauth%2Fdrive%20https%3A%2F%2Fwww.googleapis.com%2Fauth%2Fdrive.photos.readonly%20https%3A%2F%2Fwww.googleapis.com%2Fauth%2Fpeopleapi.readonly&response_type=code\n",
            "\n",
            "Enter your authorization code:\n",
            "··········\n",
            "Mounted at /content/drive\n"
          ],
          "name": "stdout"
        }
      ]
    },
    {
      "cell_type": "markdown",
      "metadata": {
        "id": "nIxXeQh7hPRo",
        "colab_type": "text"
      },
      "source": [
        "# Importing the Libraries"
      ]
    },
    {
      "cell_type": "code",
      "metadata": {
        "id": "0Rsy6PQphFWB",
        "colab_type": "code",
        "colab": {}
      },
      "source": [
        "import pandas as pd\n",
        "import numpy as np\n",
        "\n",
        "from sklearn.ensemble import RandomForestRegressor\n",
        "from sklearn.metrics import confusion_matrix, mean_squared_error\n",
        "\n",
        "import matplotlib.pyplot as plt\n",
        "from sklearn.tree import export_graphviz\n",
        "import pydotplus\n",
        "from IPython import display\n",
        "from io import StringIO"
      ],
      "execution_count": 0,
      "outputs": []
    },
    {
      "cell_type": "markdown",
      "metadata": {
        "id": "cic4f7m5hdf5",
        "colab_type": "text"
      },
      "source": [
        "# Data Collection "
      ]
    },
    {
      "cell_type": "code",
      "metadata": {
        "id": "KvWxln1nhbex",
        "colab_type": "code",
        "colab": {
          "base_uri": "https://localhost:8080/",
          "height": 35
        },
        "outputId": "73efe0f6-e780-411e-dcd6-c2ec339db7d5"
      },
      "source": [
        "%cd drive/My\\ Drive/Data\\ Science"
      ],
      "execution_count": 3,
      "outputs": [
        {
          "output_type": "stream",
          "text": [
            "/content/drive/My Drive/Data Science\n"
          ],
          "name": "stdout"
        }
      ]
    },
    {
      "cell_type": "code",
      "metadata": {
        "id": "MEaovpmJhqN7",
        "colab_type": "code",
        "colab": {}
      },
      "source": [
        "PATH = \"data-bluebook-for-bulldozers/\""
      ],
      "execution_count": 0,
      "outputs": []
    },
    {
      "cell_type": "code",
      "metadata": {
        "id": "bCqHEMR9hsuq",
        "colab_type": "code",
        "colab": {
          "base_uri": "https://localhost:8080/",
          "height": 104
        },
        "outputId": "fcf81ae2-e220-434d-a7a2-1fe2e55e49c7"
      },
      "source": [
        "!ls {PATH}"
      ],
      "execution_count": 5,
      "outputs": [
        {
          "output_type": "stream",
          "text": [
            "'Data Dictionary.xlsx'\t\t    Train.7z\t        Valid.7z\n",
            " Machine_Appendix.csv\t\t    TrainAndValid.7z    Valid.csv\n",
            " median_benchmark.csv\t\t    TrainAndValid.csv   ValidSolution.csv\n",
            " random_forest_benchmark_test.csv   TrainAndValid.zip   Valid.zip\n",
            " Test.csv\t\t\t    Train.csv\n"
          ],
          "name": "stdout"
        }
      ]
    },
    {
      "cell_type": "code",
      "metadata": {
        "id": "OPIgQfkuhuof",
        "colab_type": "code",
        "colab": {}
      },
      "source": [
        "data_raw = pd.read_csv(f'{PATH}Train.csv',low_memory=False, \n",
        "                     parse_dates=[\"saledate\"] )"
      ],
      "execution_count": 0,
      "outputs": []
    },
    {
      "cell_type": "markdown",
      "metadata": {
        "id": "olDBTCW4h4wu",
        "colab_type": "text"
      },
      "source": [
        "## Learning the data"
      ]
    },
    {
      "cell_type": "code",
      "metadata": {
        "id": "BNXh4y35hwkV",
        "colab_type": "code",
        "colab": {}
      },
      "source": [
        "data_prac = data_raw.copy()"
      ],
      "execution_count": 0,
      "outputs": []
    },
    {
      "cell_type": "code",
      "metadata": {
        "id": "ixc1W19uhzZa",
        "colab_type": "code",
        "colab": {
          "base_uri": "https://localhost:8080/",
          "height": 356
        },
        "outputId": "95b39e09-ee3c-459b-b0e2-635dab829559"
      },
      "source": [
        "data_prac.head()"
      ],
      "execution_count": 8,
      "outputs": [
        {
          "output_type": "execute_result",
          "data": {
            "text/html": [
              "<div>\n",
              "<style scoped>\n",
              "    .dataframe tbody tr th:only-of-type {\n",
              "        vertical-align: middle;\n",
              "    }\n",
              "\n",
              "    .dataframe tbody tr th {\n",
              "        vertical-align: top;\n",
              "    }\n",
              "\n",
              "    .dataframe thead th {\n",
              "        text-align: right;\n",
              "    }\n",
              "</style>\n",
              "<table border=\"1\" class=\"dataframe\">\n",
              "  <thead>\n",
              "    <tr style=\"text-align: right;\">\n",
              "      <th></th>\n",
              "      <th>SalesID</th>\n",
              "      <th>SalePrice</th>\n",
              "      <th>MachineID</th>\n",
              "      <th>ModelID</th>\n",
              "      <th>datasource</th>\n",
              "      <th>auctioneerID</th>\n",
              "      <th>YearMade</th>\n",
              "      <th>MachineHoursCurrentMeter</th>\n",
              "      <th>UsageBand</th>\n",
              "      <th>saledate</th>\n",
              "      <th>fiModelDesc</th>\n",
              "      <th>fiBaseModel</th>\n",
              "      <th>fiSecondaryDesc</th>\n",
              "      <th>fiModelSeries</th>\n",
              "      <th>fiModelDescriptor</th>\n",
              "      <th>ProductSize</th>\n",
              "      <th>fiProductClassDesc</th>\n",
              "      <th>state</th>\n",
              "      <th>ProductGroup</th>\n",
              "      <th>ProductGroupDesc</th>\n",
              "      <th>Drive_System</th>\n",
              "      <th>Enclosure</th>\n",
              "      <th>Forks</th>\n",
              "      <th>Pad_Type</th>\n",
              "      <th>Ride_Control</th>\n",
              "      <th>Stick</th>\n",
              "      <th>Transmission</th>\n",
              "      <th>Turbocharged</th>\n",
              "      <th>Blade_Extension</th>\n",
              "      <th>Blade_Width</th>\n",
              "      <th>Enclosure_Type</th>\n",
              "      <th>Engine_Horsepower</th>\n",
              "      <th>Hydraulics</th>\n",
              "      <th>Pushblock</th>\n",
              "      <th>Ripper</th>\n",
              "      <th>Scarifier</th>\n",
              "      <th>Tip_Control</th>\n",
              "      <th>Tire_Size</th>\n",
              "      <th>Coupler</th>\n",
              "      <th>Coupler_System</th>\n",
              "      <th>Grouser_Tracks</th>\n",
              "      <th>Hydraulics_Flow</th>\n",
              "      <th>Track_Type</th>\n",
              "      <th>Undercarriage_Pad_Width</th>\n",
              "      <th>Stick_Length</th>\n",
              "      <th>Thumb</th>\n",
              "      <th>Pattern_Changer</th>\n",
              "      <th>Grouser_Type</th>\n",
              "      <th>Backhoe_Mounting</th>\n",
              "      <th>Blade_Type</th>\n",
              "      <th>Travel_Controls</th>\n",
              "      <th>Differential_Type</th>\n",
              "      <th>Steering_Controls</th>\n",
              "    </tr>\n",
              "  </thead>\n",
              "  <tbody>\n",
              "    <tr>\n",
              "      <th>0</th>\n",
              "      <td>1139246</td>\n",
              "      <td>66000</td>\n",
              "      <td>999089</td>\n",
              "      <td>3157</td>\n",
              "      <td>121</td>\n",
              "      <td>3.0</td>\n",
              "      <td>2004</td>\n",
              "      <td>68.0</td>\n",
              "      <td>Low</td>\n",
              "      <td>2006-11-16</td>\n",
              "      <td>521D</td>\n",
              "      <td>521</td>\n",
              "      <td>D</td>\n",
              "      <td>NaN</td>\n",
              "      <td>NaN</td>\n",
              "      <td>NaN</td>\n",
              "      <td>Wheel Loader - 110.0 to 120.0 Horsepower</td>\n",
              "      <td>Alabama</td>\n",
              "      <td>WL</td>\n",
              "      <td>Wheel Loader</td>\n",
              "      <td>NaN</td>\n",
              "      <td>EROPS w AC</td>\n",
              "      <td>None or Unspecified</td>\n",
              "      <td>NaN</td>\n",
              "      <td>None or Unspecified</td>\n",
              "      <td>NaN</td>\n",
              "      <td>NaN</td>\n",
              "      <td>NaN</td>\n",
              "      <td>NaN</td>\n",
              "      <td>NaN</td>\n",
              "      <td>NaN</td>\n",
              "      <td>NaN</td>\n",
              "      <td>2 Valve</td>\n",
              "      <td>NaN</td>\n",
              "      <td>NaN</td>\n",
              "      <td>NaN</td>\n",
              "      <td>NaN</td>\n",
              "      <td>None or Unspecified</td>\n",
              "      <td>None or Unspecified</td>\n",
              "      <td>NaN</td>\n",
              "      <td>NaN</td>\n",
              "      <td>NaN</td>\n",
              "      <td>NaN</td>\n",
              "      <td>NaN</td>\n",
              "      <td>NaN</td>\n",
              "      <td>NaN</td>\n",
              "      <td>NaN</td>\n",
              "      <td>NaN</td>\n",
              "      <td>NaN</td>\n",
              "      <td>NaN</td>\n",
              "      <td>NaN</td>\n",
              "      <td>Standard</td>\n",
              "      <td>Conventional</td>\n",
              "    </tr>\n",
              "    <tr>\n",
              "      <th>1</th>\n",
              "      <td>1139248</td>\n",
              "      <td>57000</td>\n",
              "      <td>117657</td>\n",
              "      <td>77</td>\n",
              "      <td>121</td>\n",
              "      <td>3.0</td>\n",
              "      <td>1996</td>\n",
              "      <td>4640.0</td>\n",
              "      <td>Low</td>\n",
              "      <td>2004-03-26</td>\n",
              "      <td>950FII</td>\n",
              "      <td>950</td>\n",
              "      <td>F</td>\n",
              "      <td>II</td>\n",
              "      <td>NaN</td>\n",
              "      <td>Medium</td>\n",
              "      <td>Wheel Loader - 150.0 to 175.0 Horsepower</td>\n",
              "      <td>North Carolina</td>\n",
              "      <td>WL</td>\n",
              "      <td>Wheel Loader</td>\n",
              "      <td>NaN</td>\n",
              "      <td>EROPS w AC</td>\n",
              "      <td>None or Unspecified</td>\n",
              "      <td>NaN</td>\n",
              "      <td>None or Unspecified</td>\n",
              "      <td>NaN</td>\n",
              "      <td>NaN</td>\n",
              "      <td>NaN</td>\n",
              "      <td>NaN</td>\n",
              "      <td>NaN</td>\n",
              "      <td>NaN</td>\n",
              "      <td>NaN</td>\n",
              "      <td>2 Valve</td>\n",
              "      <td>NaN</td>\n",
              "      <td>NaN</td>\n",
              "      <td>NaN</td>\n",
              "      <td>NaN</td>\n",
              "      <td>23.5</td>\n",
              "      <td>None or Unspecified</td>\n",
              "      <td>NaN</td>\n",
              "      <td>NaN</td>\n",
              "      <td>NaN</td>\n",
              "      <td>NaN</td>\n",
              "      <td>NaN</td>\n",
              "      <td>NaN</td>\n",
              "      <td>NaN</td>\n",
              "      <td>NaN</td>\n",
              "      <td>NaN</td>\n",
              "      <td>NaN</td>\n",
              "      <td>NaN</td>\n",
              "      <td>NaN</td>\n",
              "      <td>Standard</td>\n",
              "      <td>Conventional</td>\n",
              "    </tr>\n",
              "    <tr>\n",
              "      <th>2</th>\n",
              "      <td>1139249</td>\n",
              "      <td>10000</td>\n",
              "      <td>434808</td>\n",
              "      <td>7009</td>\n",
              "      <td>121</td>\n",
              "      <td>3.0</td>\n",
              "      <td>2001</td>\n",
              "      <td>2838.0</td>\n",
              "      <td>High</td>\n",
              "      <td>2004-02-26</td>\n",
              "      <td>226</td>\n",
              "      <td>226</td>\n",
              "      <td>NaN</td>\n",
              "      <td>NaN</td>\n",
              "      <td>NaN</td>\n",
              "      <td>NaN</td>\n",
              "      <td>Skid Steer Loader - 1351.0 to 1601.0 Lb Operat...</td>\n",
              "      <td>New York</td>\n",
              "      <td>SSL</td>\n",
              "      <td>Skid Steer Loaders</td>\n",
              "      <td>NaN</td>\n",
              "      <td>OROPS</td>\n",
              "      <td>None or Unspecified</td>\n",
              "      <td>NaN</td>\n",
              "      <td>NaN</td>\n",
              "      <td>NaN</td>\n",
              "      <td>NaN</td>\n",
              "      <td>NaN</td>\n",
              "      <td>NaN</td>\n",
              "      <td>NaN</td>\n",
              "      <td>NaN</td>\n",
              "      <td>NaN</td>\n",
              "      <td>Auxiliary</td>\n",
              "      <td>NaN</td>\n",
              "      <td>NaN</td>\n",
              "      <td>NaN</td>\n",
              "      <td>NaN</td>\n",
              "      <td>NaN</td>\n",
              "      <td>None or Unspecified</td>\n",
              "      <td>None or Unspecified</td>\n",
              "      <td>None or Unspecified</td>\n",
              "      <td>Standard</td>\n",
              "      <td>NaN</td>\n",
              "      <td>NaN</td>\n",
              "      <td>NaN</td>\n",
              "      <td>NaN</td>\n",
              "      <td>NaN</td>\n",
              "      <td>NaN</td>\n",
              "      <td>NaN</td>\n",
              "      <td>NaN</td>\n",
              "      <td>NaN</td>\n",
              "      <td>NaN</td>\n",
              "      <td>NaN</td>\n",
              "    </tr>\n",
              "    <tr>\n",
              "      <th>3</th>\n",
              "      <td>1139251</td>\n",
              "      <td>38500</td>\n",
              "      <td>1026470</td>\n",
              "      <td>332</td>\n",
              "      <td>121</td>\n",
              "      <td>3.0</td>\n",
              "      <td>2001</td>\n",
              "      <td>3486.0</td>\n",
              "      <td>High</td>\n",
              "      <td>2011-05-19</td>\n",
              "      <td>PC120-6E</td>\n",
              "      <td>PC120</td>\n",
              "      <td>NaN</td>\n",
              "      <td>-6E</td>\n",
              "      <td>NaN</td>\n",
              "      <td>Small</td>\n",
              "      <td>Hydraulic Excavator, Track - 12.0 to 14.0 Metr...</td>\n",
              "      <td>Texas</td>\n",
              "      <td>TEX</td>\n",
              "      <td>Track Excavators</td>\n",
              "      <td>NaN</td>\n",
              "      <td>EROPS w AC</td>\n",
              "      <td>NaN</td>\n",
              "      <td>NaN</td>\n",
              "      <td>NaN</td>\n",
              "      <td>NaN</td>\n",
              "      <td>NaN</td>\n",
              "      <td>NaN</td>\n",
              "      <td>NaN</td>\n",
              "      <td>NaN</td>\n",
              "      <td>NaN</td>\n",
              "      <td>NaN</td>\n",
              "      <td>2 Valve</td>\n",
              "      <td>NaN</td>\n",
              "      <td>NaN</td>\n",
              "      <td>NaN</td>\n",
              "      <td>NaN</td>\n",
              "      <td>NaN</td>\n",
              "      <td>None or Unspecified</td>\n",
              "      <td>NaN</td>\n",
              "      <td>NaN</td>\n",
              "      <td>NaN</td>\n",
              "      <td>NaN</td>\n",
              "      <td>NaN</td>\n",
              "      <td>NaN</td>\n",
              "      <td>NaN</td>\n",
              "      <td>NaN</td>\n",
              "      <td>NaN</td>\n",
              "      <td>NaN</td>\n",
              "      <td>NaN</td>\n",
              "      <td>NaN</td>\n",
              "      <td>NaN</td>\n",
              "      <td>NaN</td>\n",
              "    </tr>\n",
              "    <tr>\n",
              "      <th>4</th>\n",
              "      <td>1139253</td>\n",
              "      <td>11000</td>\n",
              "      <td>1057373</td>\n",
              "      <td>17311</td>\n",
              "      <td>121</td>\n",
              "      <td>3.0</td>\n",
              "      <td>2007</td>\n",
              "      <td>722.0</td>\n",
              "      <td>Medium</td>\n",
              "      <td>2009-07-23</td>\n",
              "      <td>S175</td>\n",
              "      <td>S175</td>\n",
              "      <td>NaN</td>\n",
              "      <td>NaN</td>\n",
              "      <td>NaN</td>\n",
              "      <td>NaN</td>\n",
              "      <td>Skid Steer Loader - 1601.0 to 1751.0 Lb Operat...</td>\n",
              "      <td>New York</td>\n",
              "      <td>SSL</td>\n",
              "      <td>Skid Steer Loaders</td>\n",
              "      <td>NaN</td>\n",
              "      <td>EROPS</td>\n",
              "      <td>None or Unspecified</td>\n",
              "      <td>NaN</td>\n",
              "      <td>NaN</td>\n",
              "      <td>NaN</td>\n",
              "      <td>NaN</td>\n",
              "      <td>NaN</td>\n",
              "      <td>NaN</td>\n",
              "      <td>NaN</td>\n",
              "      <td>NaN</td>\n",
              "      <td>NaN</td>\n",
              "      <td>Auxiliary</td>\n",
              "      <td>NaN</td>\n",
              "      <td>NaN</td>\n",
              "      <td>NaN</td>\n",
              "      <td>NaN</td>\n",
              "      <td>NaN</td>\n",
              "      <td>None or Unspecified</td>\n",
              "      <td>None or Unspecified</td>\n",
              "      <td>None or Unspecified</td>\n",
              "      <td>Standard</td>\n",
              "      <td>NaN</td>\n",
              "      <td>NaN</td>\n",
              "      <td>NaN</td>\n",
              "      <td>NaN</td>\n",
              "      <td>NaN</td>\n",
              "      <td>NaN</td>\n",
              "      <td>NaN</td>\n",
              "      <td>NaN</td>\n",
              "      <td>NaN</td>\n",
              "      <td>NaN</td>\n",
              "      <td>NaN</td>\n",
              "    </tr>\n",
              "  </tbody>\n",
              "</table>\n",
              "</div>"
            ],
            "text/plain": [
              "   SalesID  SalePrice  ...  Differential_Type  Steering_Controls\n",
              "0  1139246      66000  ...           Standard       Conventional\n",
              "1  1139248      57000  ...           Standard       Conventional\n",
              "2  1139249      10000  ...                NaN                NaN\n",
              "3  1139251      38500  ...                NaN                NaN\n",
              "4  1139253      11000  ...                NaN                NaN\n",
              "\n",
              "[5 rows x 53 columns]"
            ]
          },
          "metadata": {
            "tags": []
          },
          "execution_count": 8
        }
      ]
    },
    {
      "cell_type": "code",
      "metadata": {
        "id": "Lf5zTtshh0yx",
        "colab_type": "code",
        "colab": {
          "base_uri": "https://localhost:8080/",
          "height": 1000
        },
        "outputId": "622b56bd-2450-4dbc-c9a9-42ee95f77bf1"
      },
      "source": [
        "data_prac.info()"
      ],
      "execution_count": 9,
      "outputs": [
        {
          "output_type": "stream",
          "text": [
            "<class 'pandas.core.frame.DataFrame'>\n",
            "RangeIndex: 401125 entries, 0 to 401124\n",
            "Data columns (total 53 columns):\n",
            "SalesID                     401125 non-null int64\n",
            "SalePrice                   401125 non-null int64\n",
            "MachineID                   401125 non-null int64\n",
            "ModelID                     401125 non-null int64\n",
            "datasource                  401125 non-null int64\n",
            "auctioneerID                380989 non-null float64\n",
            "YearMade                    401125 non-null int64\n",
            "MachineHoursCurrentMeter    142765 non-null float64\n",
            "UsageBand                   69639 non-null object\n",
            "saledate                    401125 non-null datetime64[ns]\n",
            "fiModelDesc                 401125 non-null object\n",
            "fiBaseModel                 401125 non-null object\n",
            "fiSecondaryDesc             263934 non-null object\n",
            "fiModelSeries               56908 non-null object\n",
            "fiModelDescriptor           71919 non-null object\n",
            "ProductSize                 190350 non-null object\n",
            "fiProductClassDesc          401125 non-null object\n",
            "state                       401125 non-null object\n",
            "ProductGroup                401125 non-null object\n",
            "ProductGroupDesc            401125 non-null object\n",
            "Drive_System                104361 non-null object\n",
            "Enclosure                   400800 non-null object\n",
            "Forks                       192077 non-null object\n",
            "Pad_Type                    79134 non-null object\n",
            "Ride_Control                148606 non-null object\n",
            "Stick                       79134 non-null object\n",
            "Transmission                183230 non-null object\n",
            "Turbocharged                79134 non-null object\n",
            "Blade_Extension             25219 non-null object\n",
            "Blade_Width                 25219 non-null object\n",
            "Enclosure_Type              25219 non-null object\n",
            "Engine_Horsepower           25219 non-null object\n",
            "Hydraulics                  320570 non-null object\n",
            "Pushblock                   25219 non-null object\n",
            "Ripper                      104137 non-null object\n",
            "Scarifier                   25230 non-null object\n",
            "Tip_Control                 25219 non-null object\n",
            "Tire_Size                   94718 non-null object\n",
            "Coupler                     213952 non-null object\n",
            "Coupler_System              43458 non-null object\n",
            "Grouser_Tracks              43362 non-null object\n",
            "Hydraulics_Flow             43362 non-null object\n",
            "Track_Type                  99153 non-null object\n",
            "Undercarriage_Pad_Width     99872 non-null object\n",
            "Stick_Length                99218 non-null object\n",
            "Thumb                       99288 non-null object\n",
            "Pattern_Changer             99218 non-null object\n",
            "Grouser_Type                99153 non-null object\n",
            "Backhoe_Mounting            78672 non-null object\n",
            "Blade_Type                  79833 non-null object\n",
            "Travel_Controls             79834 non-null object\n",
            "Differential_Type           69411 non-null object\n",
            "Steering_Controls           69369 non-null object\n",
            "dtypes: datetime64[ns](1), float64(2), int64(6), object(44)\n",
            "memory usage: 162.2+ MB\n"
          ],
          "name": "stdout"
        }
      ]
    },
    {
      "cell_type": "code",
      "metadata": {
        "id": "dxkgfq97h8UP",
        "colab_type": "code",
        "colab": {}
      },
      "source": [
        "def assigning_categorical(data, column):\n",
        "    categories = []\n",
        "    for i in data[column].unique():\n",
        "        categories.append(i)\n",
        "    try:    \n",
        "        categories.remove(np.nan)\n",
        "    except Exception as e:\n",
        "        pass\n",
        "    data[column+'_new'] = pd.Categorical(data[column], categories=categories, ordered=True).codes\n",
        "    data.drop(f'{column}', axis=1, inplace = True)\n",
        "    data.replace(-1, np.nan, inplace=True)"
      ],
      "execution_count": 0,
      "outputs": []
    },
    {
      "cell_type": "code",
      "metadata": {
        "id": "BMfFs7sDh_i5",
        "colab_type": "code",
        "colab": {}
      },
      "source": [
        "for i in data_prac.columns:\n",
        "    if data_prac[i].dtype == 'O':\n",
        "        try:\n",
        "            assigning_categorical(data_prac, i)\n",
        "        except Exception as e:\n",
        "            pass"
      ],
      "execution_count": 0,
      "outputs": []
    },
    {
      "cell_type": "code",
      "metadata": {
        "id": "t2jbiDaQiIcd",
        "colab_type": "code",
        "colab": {}
      },
      "source": [
        "data_prac['saleyear'] = data_prac['saledate'].dt.year\n",
        "data_prac.drop('saledate', axis=1,inplace=True)"
      ],
      "execution_count": 0,
      "outputs": []
    },
    {
      "cell_type": "code",
      "metadata": {
        "id": "1bXspRt7iJfY",
        "colab_type": "code",
        "colab": {}
      },
      "source": [
        "data_prac.SalePrice = np.log(data_prac.SalePrice)"
      ],
      "execution_count": 0,
      "outputs": []
    },
    {
      "cell_type": "code",
      "metadata": {
        "id": "uk0Lsxr8iVTp",
        "colab_type": "code",
        "colab": {}
      },
      "source": [
        "for i in data_prac.columns:\n",
        "    data_prac[i] = data_prac[i].fillna(data_prac[i].median())"
      ],
      "execution_count": 0,
      "outputs": []
    },
    {
      "cell_type": "code",
      "metadata": {
        "id": "mAb6ZyNEian_",
        "colab_type": "code",
        "colab": {}
      },
      "source": [
        "X = data_prac.drop('SalePrice', axis=1)\n",
        "y = data_prac.SalePrice"
      ],
      "execution_count": 0,
      "outputs": []
    },
    {
      "cell_type": "markdown",
      "metadata": {
        "id": "g3Wq2FNriiKm",
        "colab_type": "text"
      },
      "source": [
        "# Training"
      ]
    },
    {
      "cell_type": "code",
      "metadata": {
        "id": "zptT4rnWicka",
        "colab_type": "code",
        "colab": {
          "base_uri": "https://localhost:8080/",
          "height": 124
        },
        "outputId": "b91ea406-59e9-482e-b5dd-d99e04c5fddd"
      },
      "source": [
        "forr = RandomForestRegressor(n_jobs=-1)\n",
        "%time forr.fit(X,y)\n",
        "forr.score(X,y)"
      ],
      "execution_count": 17,
      "outputs": [
        {
          "output_type": "stream",
          "text": [
            "/usr/local/lib/python3.6/dist-packages/sklearn/ensemble/forest.py:245: FutureWarning: The default value of n_estimators will change from 10 in version 0.20 to 100 in 0.22.\n",
            "  \"10 in version 0.20 to 100 in 0.22.\", FutureWarning)\n"
          ],
          "name": "stderr"
        },
        {
          "output_type": "stream",
          "text": [
            "CPU times: user 1min 4s, sys: 111 ms, total: 1min 4s\n",
            "Wall time: 32.8 s\n"
          ],
          "name": "stdout"
        },
        {
          "output_type": "execute_result",
          "data": {
            "text/plain": [
              "0.9817237437152007"
            ]
          },
          "metadata": {
            "tags": []
          },
          "execution_count": 17
        }
      ]
    },
    {
      "cell_type": "markdown",
      "metadata": {
        "id": "ge47JGMsiflC",
        "colab_type": "text"
      },
      "source": [
        "# Creating Validation Set"
      ]
    },
    {
      "cell_type": "code",
      "metadata": {
        "id": "dWv46ddGHxij",
        "colab_type": "code",
        "outputId": "dd2c3dc0-c668-485f-87c4-c84806a1f491",
        "colab": {
          "base_uri": "https://localhost:8080/",
          "height": 35
        }
      },
      "source": [
        "def split_vals(a,n): return a[:n].copy(), a[n:].copy()\n",
        "\n",
        "n_valid = 12000  # same as Kaggle's test set size\n",
        "n_trn = len(X)-n_valid\n",
        "raw_train, raw_valid = split_vals(data_prac, n_trn)\n",
        "X_train, X_valid = split_vals(X, n_trn)\n",
        "y_train, y_valid = split_vals(y, n_trn)\n",
        "\n",
        "X_train.shape, y_train.shape, X_valid.shape"
      ],
      "execution_count": 18,
      "outputs": [
        {
          "output_type": "execute_result",
          "data": {
            "text/plain": [
              "((389125, 52), (389125,), (12000, 52))"
            ]
          },
          "metadata": {
            "tags": []
          },
          "execution_count": 18
        }
      ]
    },
    {
      "cell_type": "code",
      "metadata": {
        "id": "ntS2pFppi6ha",
        "colab_type": "code",
        "colab": {}
      },
      "source": [
        "import math\n",
        "def rmse(x,y): return math.sqrt(((x-y)**2).mean())\n",
        "\n",
        "def print_score(m):\n",
        "    res = [rmse(m.predict(X_train), y_train), rmse(m.predict(X_valid), y_valid),\n",
        "                m.score(X_train, y_train), m.score(X_valid, y_valid)]\n",
        "    if hasattr(m, 'oob_score_'): res.append(m.oob_score_)\n",
        "    print(res)"
      ],
      "execution_count": 0,
      "outputs": []
    },
    {
      "cell_type": "code",
      "metadata": {
        "id": "5U5_YFocizgH",
        "colab_type": "code",
        "colab": {
          "base_uri": "https://localhost:8080/",
          "height": 35
        },
        "outputId": "dade08f0-f908-45b5-f57c-28430d200744"
      },
      "source": [
        "m = RandomForestRegressor(n_estimators=1, max_depth=3, bootstrap=False, n_jobs=-1)\n",
        "m.fit(X_train, y_train)\n",
        "print_score(m)"
      ],
      "execution_count": 23,
      "outputs": [
        {
          "output_type": "stream",
          "text": [
            "[0.5513536884318471, 0.5727537785896973, 0.36467580537988453, 0.414153418610531]\n"
          ],
          "name": "stdout"
        }
      ]
    },
    {
      "cell_type": "code",
      "metadata": {
        "id": "ogFo3pUzi3hE",
        "colab_type": "code",
        "colab": {}
      },
      "source": [
        "import graphviz\n",
        "import IPython\n",
        "import re\n",
        "\n",
        "def draw_tree(t, df, size=10, ratio=0.6, precision=0):\n",
        "    \"\"\" Draws a representation of a random forest in IPython.\n",
        "    Parameters:\n",
        "    -----------\n",
        "    t: The tree you wish to draw\n",
        "    df: The data used to train the tree. This is used to get the names of the features.\n",
        "    \"\"\"\n",
        "    s=export_graphviz(t, out_file=None, feature_names=df.columns, filled=True,\n",
        "                      special_characters=True, rotate=True, precision=precision)\n",
        "    IPython.display.display(graphviz.Source(re.sub('Tree {',\n",
        "       f'Tree {{ size={size}; ratio={ratio}', s)))"
      ],
      "execution_count": 0,
      "outputs": []
    },
    {
      "cell_type": "code",
      "metadata": {
        "id": "L6inVXvfjHCN",
        "colab_type": "code",
        "colab": {
          "base_uri": "https://localhost:8080/",
          "height": 600
        },
        "outputId": "16e9f235-67f7-4be2-b905-e63b43aa634e"
      },
      "source": [
        "draw_tree(m.estimators_[0], X, precision=3)"
      ],
      "execution_count": 25,
      "outputs": [
        {
          "output_type": "display_data",
          "data": {
            "text/plain": [
              "<graphviz.files.Source at 0x7fa4fa2d6320>"
            ],
            "image/svg+xml": "<?xml version=\"1.0\" encoding=\"UTF-8\" standalone=\"no\"?>\n<!DOCTYPE svg PUBLIC \"-//W3C//DTD SVG 1.1//EN\"\n \"http://www.w3.org/Graphics/SVG/1.1/DTD/svg11.dtd\">\n<!-- Generated by graphviz version 2.40.1 (20161225.0304)\n -->\n<!-- Title: Tree Pages: 1 -->\n<svg width=\"720pt\" height=\"434pt\"\n viewBox=\"0.00 0.00 720.00 434.49\" xmlns=\"http://www.w3.org/2000/svg\" xmlns:xlink=\"http://www.w3.org/1999/xlink\">\n<g id=\"graph0\" class=\"graph\" transform=\"scale(.7787 .7787) rotate(0) translate(4 554)\">\n<title>Tree</title>\n<polygon fill=\"#ffffff\" stroke=\"transparent\" points=\"-4,4 -4,-554 920.6667,-554 920.6667,4 -4,4\"/>\n<!-- 0 -->\n<g id=\"node1\" class=\"node\">\n<title>0</title>\n<polygon fill=\"#f7d8c1\" stroke=\"#000000\" points=\"157.1667,-336.5 18.1667,-336.5 18.1667,-268.5 157.1667,-268.5 157.1667,-336.5\"/>\n<text text-anchor=\"start\" x=\"26.1667\" y=\"-321.3\" font-family=\"Times,serif\" font-size=\"14.00\" fill=\"#000000\">Enclosure_new ≤ 0.5</text>\n<text text-anchor=\"start\" x=\"51.1667\" y=\"-306.3\" font-family=\"Times,serif\" font-size=\"14.00\" fill=\"#000000\">mse = 0.478</text>\n<text text-anchor=\"start\" x=\"34.6667\" y=\"-291.3\" font-family=\"Times,serif\" font-size=\"14.00\" fill=\"#000000\">samples = 389125</text>\n<text text-anchor=\"start\" x=\"43.6667\" y=\"-276.3\" font-family=\"Times,serif\" font-size=\"14.00\" fill=\"#000000\">value = 10.106</text>\n</g>\n<!-- 1 -->\n<g id=\"node2\" class=\"node\">\n<title>1</title>\n<polygon fill=\"#efaf81\" stroke=\"#000000\" points=\"406.6667,-372.5 242.6667,-372.5 242.6667,-304.5 406.6667,-304.5 406.6667,-372.5\"/>\n<text text-anchor=\"start\" x=\"250.6667\" y=\"-357.3\" font-family=\"Times,serif\" font-size=\"14.00\" fill=\"#000000\">ProductGroup_new ≤ 3.5</text>\n<text text-anchor=\"start\" x=\"288.1667\" y=\"-342.3\" font-family=\"Times,serif\" font-size=\"14.00\" fill=\"#000000\">mse = 0.314</text>\n<text text-anchor=\"start\" x=\"275.1667\" y=\"-327.3\" font-family=\"Times,serif\" font-size=\"14.00\" fill=\"#000000\">samples = 84043</text>\n<text text-anchor=\"start\" x=\"280.6667\" y=\"-312.3\" font-family=\"Times,serif\" font-size=\"14.00\" fill=\"#000000\">value = 10.713</text>\n</g>\n<!-- 0&#45;&gt;1 -->\n<g id=\"edge1\" class=\"edge\">\n<title>0&#45;&gt;1</title>\n<path fill=\"none\" stroke=\"#000000\" d=\"M157.1731,-313.0579C180.8067,-316.6479 207.5959,-320.7171 232.7087,-324.5317\"/>\n<polygon fill=\"#000000\" stroke=\"#000000\" points=\"232.1972,-327.9941 242.6094,-326.0356 233.2485,-321.0735 232.1972,-327.9941\"/>\n<text text-anchor=\"middle\" x=\"222.4774\" y=\"-337.158\" font-family=\"Times,serif\" font-size=\"14.00\" fill=\"#000000\">True</text>\n</g>\n<!-- 8 -->\n<g id=\"node9\" class=\"node\">\n<title>8</title>\n<polygon fill=\"#f9e3d3\" stroke=\"#000000\" points=\"387.1667,-245.5 262.1667,-245.5 262.1667,-177.5 387.1667,-177.5 387.1667,-245.5\"/>\n<text text-anchor=\"start\" x=\"270.1667\" y=\"-230.3\" font-family=\"Times,serif\" font-size=\"14.00\" fill=\"#000000\">ModelID ≤ 4573.0</text>\n<text text-anchor=\"start\" x=\"288.1667\" y=\"-215.3\" font-family=\"Times,serif\" font-size=\"14.00\" fill=\"#000000\">mse = 0.394</text>\n<text text-anchor=\"start\" x=\"271.6667\" y=\"-200.3\" font-family=\"Times,serif\" font-size=\"14.00\" fill=\"#000000\">samples = 305082</text>\n<text text-anchor=\"start\" x=\"284.1667\" y=\"-185.3\" font-family=\"Times,serif\" font-size=\"14.00\" fill=\"#000000\">value = 9.938</text>\n</g>\n<!-- 0&#45;&gt;8 -->\n<g id=\"edge8\" class=\"edge\">\n<title>0&#45;&gt;8</title>\n<path fill=\"none\" stroke=\"#000000\" d=\"M157.1731,-275.8119C187.1222,-264.3124 222.1388,-250.8672 252.3896,-239.252\"/>\n<polygon fill=\"#000000\" stroke=\"#000000\" points=\"253.9504,-242.4018 262.0313,-235.5499 251.4412,-235.867 253.9504,-242.4018\"/>\n<text text-anchor=\"middle\" x=\"239.1918\" y=\"-221.6835\" font-family=\"Times,serif\" font-size=\"14.00\" fill=\"#000000\">False</text>\n</g>\n<!-- 2 -->\n<g id=\"node3\" class=\"node\">\n<title>2</title>\n<polygon fill=\"#f0b48a\" stroke=\"#000000\" points=\"691.6667,-486.5 499.6667,-486.5 499.6667,-418.5 691.6667,-418.5 691.6667,-486.5\"/>\n<text text-anchor=\"start\" x=\"507.6667\" y=\"-471.3\" font-family=\"Times,serif\" font-size=\"14.00\" fill=\"#000000\">ProductGroupDesc_new ≤ 2.5</text>\n<text text-anchor=\"start\" x=\"559.1667\" y=\"-456.3\" font-family=\"Times,serif\" font-size=\"14.00\" fill=\"#000000\">mse = 0.292</text>\n<text text-anchor=\"start\" x=\"546.1667\" y=\"-441.3\" font-family=\"Times,serif\" font-size=\"14.00\" fill=\"#000000\">samples = 63810</text>\n<text text-anchor=\"start\" x=\"551.6667\" y=\"-426.3\" font-family=\"Times,serif\" font-size=\"14.00\" fill=\"#000000\">value = 10.635</text>\n</g>\n<!-- 1&#45;&gt;2 -->\n<g id=\"edge2\" class=\"edge\">\n<title>1&#45;&gt;2</title>\n<path fill=\"none\" stroke=\"#000000\" d=\"M405.6085,-372.5493C436.9802,-385.7463 473.036,-400.9137 505.2535,-414.4664\"/>\n<polygon fill=\"#000000\" stroke=\"#000000\" points=\"504.0991,-417.7778 514.6739,-418.4293 506.8134,-411.3255 504.0991,-417.7778\"/>\n</g>\n<!-- 5 -->\n<g id=\"node6\" class=\"node\">\n<title>5</title>\n<polygon fill=\"#eb9e67\" stroke=\"#000000\" points=\"662.1667,-372.5 529.1667,-372.5 529.1667,-304.5 662.1667,-304.5 662.1667,-372.5\"/>\n<text text-anchor=\"start\" x=\"537.1667\" y=\"-357.3\" font-family=\"Times,serif\" font-size=\"14.00\" fill=\"#000000\">ModelID ≤ 23900.0</text>\n<text text-anchor=\"start\" x=\"559.1667\" y=\"-342.3\" font-family=\"Times,serif\" font-size=\"14.00\" fill=\"#000000\">mse = 0.301</text>\n<text text-anchor=\"start\" x=\"546.1667\" y=\"-327.3\" font-family=\"Times,serif\" font-size=\"14.00\" fill=\"#000000\">samples = 20233</text>\n<text text-anchor=\"start\" x=\"551.6667\" y=\"-312.3\" font-family=\"Times,serif\" font-size=\"14.00\" fill=\"#000000\">value = 10.962</text>\n</g>\n<!-- 1&#45;&gt;5 -->\n<g id=\"edge5\" class=\"edge\">\n<title>1&#45;&gt;5</title>\n<path fill=\"none\" stroke=\"#000000\" d=\"M406.711,-338.5C442.3002,-338.5 483.7486,-338.5 518.7423,-338.5\"/>\n<polygon fill=\"#000000\" stroke=\"#000000\" points=\"518.9048,-342.0001 528.9047,-338.5 518.9047,-335.0001 518.9048,-342.0001\"/>\n</g>\n<!-- 3 -->\n<g id=\"node4\" class=\"node\">\n<title>3</title>\n<polygon fill=\"#efb184\" stroke=\"#000000\" points=\"897.1667,-550 782.1667,-550 782.1667,-497 897.1667,-497 897.1667,-550\"/>\n<text text-anchor=\"start\" x=\"803.1667\" y=\"-534.8\" font-family=\"Times,serif\" font-size=\"14.00\" fill=\"#000000\">mse = 0.286</text>\n<text text-anchor=\"start\" x=\"790.1667\" y=\"-519.8\" font-family=\"Times,serif\" font-size=\"14.00\" fill=\"#000000\">samples = 57081</text>\n<text text-anchor=\"start\" x=\"795.6667\" y=\"-504.8\" font-family=\"Times,serif\" font-size=\"14.00\" fill=\"#000000\">value = 10.691</text>\n</g>\n<!-- 2&#45;&gt;3 -->\n<g id=\"edge3\" class=\"edge\">\n<title>2&#45;&gt;3</title>\n<path fill=\"none\" stroke=\"#000000\" d=\"M691.7517,-480.4592C718.7123,-488.3043 747.4432,-496.6645 772.3429,-503.9099\"/>\n<polygon fill=\"#000000\" stroke=\"#000000\" points=\"771.4634,-507.2991 782.0431,-506.7325 773.4192,-500.5778 771.4634,-507.2991\"/>\n</g>\n<!-- 4 -->\n<g id=\"node5\" class=\"node\">\n<title>4</title>\n<polygon fill=\"#f6d4bc\" stroke=\"#000000\" points=\"893.1667,-479 786.1667,-479 786.1667,-426 893.1667,-426 893.1667,-479\"/>\n<text text-anchor=\"start\" x=\"803.1667\" y=\"-463.8\" font-family=\"Times,serif\" font-size=\"14.00\" fill=\"#000000\">mse = 0.086</text>\n<text text-anchor=\"start\" x=\"794.1667\" y=\"-448.8\" font-family=\"Times,serif\" font-size=\"14.00\" fill=\"#000000\">samples = 6729</text>\n<text text-anchor=\"start\" x=\"795.6667\" y=\"-433.8\" font-family=\"Times,serif\" font-size=\"14.00\" fill=\"#000000\">value = 10.156</text>\n</g>\n<!-- 2&#45;&gt;4 -->\n<g id=\"edge4\" class=\"edge\">\n<title>2&#45;&gt;4</title>\n<path fill=\"none\" stroke=\"#000000\" d=\"M691.7517,-452.5C719.8823,-452.5 749.9402,-452.5 775.5625,-452.5\"/>\n<polygon fill=\"#000000\" stroke=\"#000000\" points=\"775.8839,-456.0001 785.8839,-452.5 775.8839,-449.0001 775.8839,-456.0001\"/>\n</g>\n<!-- 6 -->\n<g id=\"node7\" class=\"node\">\n<title>6</title>\n<polygon fill=\"#eca571\" stroke=\"#000000\" points=\"897.1667,-408 782.1667,-408 782.1667,-355 897.1667,-355 897.1667,-408\"/>\n<text text-anchor=\"start\" x=\"803.1667\" y=\"-392.8\" font-family=\"Times,serif\" font-size=\"14.00\" fill=\"#000000\">mse = 0.285</text>\n<text text-anchor=\"start\" x=\"790.1667\" y=\"-377.8\" font-family=\"Times,serif\" font-size=\"14.00\" fill=\"#000000\">samples = 16797</text>\n<text text-anchor=\"start\" x=\"795.6667\" y=\"-362.8\" font-family=\"Times,serif\" font-size=\"14.00\" fill=\"#000000\">value = 10.872</text>\n</g>\n<!-- 5&#45;&gt;6 -->\n<g id=\"edge6\" class=\"edge\">\n<title>5&#45;&gt;6</title>\n<path fill=\"none\" stroke=\"#000000\" d=\"M662.3407,-350.2499C696.3732,-356.2475 737.6928,-363.5292 771.8818,-369.5543\"/>\n<polygon fill=\"#000000\" stroke=\"#000000\" points=\"771.3284,-373.0106 781.7841,-371.2994 772.5433,-366.1169 771.3284,-373.0106\"/>\n</g>\n<!-- 7 -->\n<g id=\"node8\" class=\"node\">\n<title>7</title>\n<polygon fill=\"#e58139\" stroke=\"#000000\" points=\"893.1667,-337 786.1667,-337 786.1667,-284 893.1667,-284 893.1667,-337\"/>\n<text text-anchor=\"start\" x=\"803.1667\" y=\"-321.8\" font-family=\"Times,serif\" font-size=\"14.00\" fill=\"#000000\">mse = 0.146</text>\n<text text-anchor=\"start\" x=\"794.1667\" y=\"-306.8\" font-family=\"Times,serif\" font-size=\"14.00\" fill=\"#000000\">samples = 3436</text>\n<text text-anchor=\"start\" x=\"795.6667\" y=\"-291.8\" font-family=\"Times,serif\" font-size=\"14.00\" fill=\"#000000\">value = 11.402</text>\n</g>\n<!-- 5&#45;&gt;7 -->\n<g id=\"edge7\" class=\"edge\">\n<title>5&#45;&gt;7</title>\n<path fill=\"none\" stroke=\"#000000\" d=\"M662.3407,-330.8489C697.6574,-326.7961 740.8217,-321.8429 775.721,-317.838\"/>\n<polygon fill=\"#000000\" stroke=\"#000000\" points=\"776.2631,-321.2989 785.7989,-316.6816 775.465,-314.3445 776.2631,-321.2989\"/>\n</g>\n<!-- 9 -->\n<g id=\"node10\" class=\"node\">\n<title>9</title>\n<polygon fill=\"#f6d2b8\" stroke=\"#000000\" points=\"661.1667,-245.5 530.1667,-245.5 530.1667,-177.5 661.1667,-177.5 661.1667,-245.5\"/>\n<text text-anchor=\"start\" x=\"538.1667\" y=\"-230.3\" font-family=\"Times,serif\" font-size=\"14.00\" fill=\"#000000\">YearMade ≤ 1973.5</text>\n<text text-anchor=\"start\" x=\"559.1667\" y=\"-215.3\" font-family=\"Times,serif\" font-size=\"14.00\" fill=\"#000000\">mse = 0.356</text>\n<text text-anchor=\"start\" x=\"542.6667\" y=\"-200.3\" font-family=\"Times,serif\" font-size=\"14.00\" fill=\"#000000\">samples = 135888</text>\n<text text-anchor=\"start\" x=\"551.6667\" y=\"-185.3\" font-family=\"Times,serif\" font-size=\"14.00\" fill=\"#000000\">value = 10.191</text>\n</g>\n<!-- 8&#45;&gt;9 -->\n<g id=\"edge9\" class=\"edge\">\n<title>8&#45;&gt;9</title>\n<path fill=\"none\" stroke=\"#000000\" d=\"M387.1798,-211.5C426.7475,-211.5 478.1504,-211.5 520.0147,-211.5\"/>\n<polygon fill=\"#000000\" stroke=\"#000000\" points=\"520.1637,-215.0001 530.1637,-211.5 520.1636,-208.0001 520.1637,-215.0001\"/>\n</g>\n<!-- 12 -->\n<g id=\"node13\" class=\"node\">\n<title>12</title>\n<polygon fill=\"#fcf1e9\" stroke=\"#000000\" points=\"691.6667,-131.5 499.6667,-131.5 499.6667,-63.5 691.6667,-63.5 691.6667,-131.5\"/>\n<text text-anchor=\"start\" x=\"507.6667\" y=\"-116.3\" font-family=\"Times,serif\" font-size=\"14.00\" fill=\"#000000\">ProductGroupDesc_new ≤ 1.5</text>\n<text text-anchor=\"start\" x=\"559.1667\" y=\"-101.3\" font-family=\"Times,serif\" font-size=\"14.00\" fill=\"#000000\">mse = 0.332</text>\n<text text-anchor=\"start\" x=\"542.6667\" y=\"-86.3\" font-family=\"Times,serif\" font-size=\"14.00\" fill=\"#000000\">samples = 169194</text>\n<text text-anchor=\"start\" x=\"555.1667\" y=\"-71.3\" font-family=\"Times,serif\" font-size=\"14.00\" fill=\"#000000\">value = 9.735</text>\n</g>\n<!-- 8&#45;&gt;12 -->\n<g id=\"edge12\" class=\"edge\">\n<title>8&#45;&gt;12</title>\n<path fill=\"none\" stroke=\"#000000\" d=\"M387.1798,-185.203C422.1246,-170.5029 466.3006,-151.9197 504.9846,-135.6467\"/>\n<polygon fill=\"#000000\" stroke=\"#000000\" points=\"506.8317,-138.6668 514.6922,-131.5631 504.1174,-132.2145 506.8317,-138.6668\"/>\n</g>\n<!-- 10 -->\n<g id=\"node11\" class=\"node\">\n<title>10</title>\n<polygon fill=\"#fceee5\" stroke=\"#000000\" points=\"897.1667,-266 782.1667,-266 782.1667,-213 897.1667,-213 897.1667,-266\"/>\n<text text-anchor=\"start\" x=\"807.1667\" y=\"-250.8\" font-family=\"Times,serif\" font-size=\"14.00\" fill=\"#000000\">mse = 0.24</text>\n<text text-anchor=\"start\" x=\"790.1667\" y=\"-235.8\" font-family=\"Times,serif\" font-size=\"14.00\" fill=\"#000000\">samples = 19486</text>\n<text text-anchor=\"start\" x=\"803.1667\" y=\"-220.8\" font-family=\"Times,serif\" font-size=\"14.00\" fill=\"#000000\">value = 9.77</text>\n</g>\n<!-- 9&#45;&gt;10 -->\n<g id=\"edge10\" class=\"edge\">\n<title>9&#45;&gt;10</title>\n<path fill=\"none\" stroke=\"#000000\" d=\"M661.3752,-219.0403C695.6764,-222.9765 737.5815,-227.7853 772.1451,-231.7516\"/>\n<polygon fill=\"#000000\" stroke=\"#000000\" points=\"771.8178,-235.2369 782.1517,-232.8999 772.6159,-228.2826 771.8178,-235.2369\"/>\n</g>\n<!-- 11 -->\n<g id=\"node12\" class=\"node\">\n<title>11</title>\n<polygon fill=\"#f5cdb1\" stroke=\"#000000\" points=\"900.6667,-195 778.6667,-195 778.6667,-142 900.6667,-142 900.6667,-195\"/>\n<text text-anchor=\"start\" x=\"803.1667\" y=\"-179.8\" font-family=\"Times,serif\" font-size=\"14.00\" fill=\"#000000\">mse = 0.341</text>\n<text text-anchor=\"start\" x=\"786.6667\" y=\"-164.8\" font-family=\"Times,serif\" font-size=\"14.00\" fill=\"#000000\">samples = 116402</text>\n<text text-anchor=\"start\" x=\"795.6667\" y=\"-149.8\" font-family=\"Times,serif\" font-size=\"14.00\" fill=\"#000000\">value = 10.261</text>\n</g>\n<!-- 9&#45;&gt;11 -->\n<g id=\"edge11\" class=\"edge\">\n<title>9&#45;&gt;11</title>\n<path fill=\"none\" stroke=\"#000000\" d=\"M661.3752,-199.9202C694.378,-194.1042 734.4197,-187.0476 768.1891,-181.0965\"/>\n<polygon fill=\"#000000\" stroke=\"#000000\" points=\"769.2124,-184.4701 778.4531,-179.2876 767.9974,-177.5764 769.2124,-184.4701\"/>\n</g>\n<!-- 13 -->\n<g id=\"node14\" class=\"node\">\n<title>13</title>\n<polygon fill=\"#ffffff\" stroke=\"#000000\" points=\"897.1667,-124 782.1667,-124 782.1667,-71 897.1667,-71 897.1667,-124\"/>\n<text text-anchor=\"start\" x=\"803.1667\" y=\"-108.8\" font-family=\"Times,serif\" font-size=\"14.00\" fill=\"#000000\">mse = 0.338</text>\n<text text-anchor=\"start\" x=\"790.1667\" y=\"-93.8\" font-family=\"Times,serif\" font-size=\"14.00\" fill=\"#000000\">samples = 61515</text>\n<text text-anchor=\"start\" x=\"799.1667\" y=\"-78.8\" font-family=\"Times,serif\" font-size=\"14.00\" fill=\"#000000\">value = 9.521</text>\n</g>\n<!-- 12&#45;&gt;13 -->\n<g id=\"edge13\" class=\"edge\">\n<title>12&#45;&gt;13</title>\n<path fill=\"none\" stroke=\"#000000\" d=\"M691.7517,-97.5C718.593,-97.5 747.1889,-97.5 772.0121,-97.5\"/>\n<polygon fill=\"#000000\" stroke=\"#000000\" points=\"772.0431,-101.0001 782.0431,-97.5 772.0431,-94.0001 772.0431,-101.0001\"/>\n</g>\n<!-- 14 -->\n<g id=\"node15\" class=\"node\">\n<title>14</title>\n<polygon fill=\"#fae9dc\" stroke=\"#000000\" points=\"900.6667,-53 778.6667,-53 778.6667,0 900.6667,0 900.6667,-53\"/>\n<text text-anchor=\"start\" x=\"803.1667\" y=\"-37.8\" font-family=\"Times,serif\" font-size=\"14.00\" fill=\"#000000\">mse = 0.287</text>\n<text text-anchor=\"start\" x=\"786.6667\" y=\"-22.8\" font-family=\"Times,serif\" font-size=\"14.00\" fill=\"#000000\">samples = 107679</text>\n<text text-anchor=\"start\" x=\"799.1667\" y=\"-7.8\" font-family=\"Times,serif\" font-size=\"14.00\" fill=\"#000000\">value = 9.857</text>\n</g>\n<!-- 12&#45;&gt;14 -->\n<g id=\"edge14\" class=\"edge\">\n<title>12&#45;&gt;14</title>\n<path fill=\"none\" stroke=\"#000000\" d=\"M691.7517,-69.5408C717.4209,-62.0715 744.6948,-54.1353 768.7391,-47.1388\"/>\n<polygon fill=\"#000000\" stroke=\"#000000\" points=\"769.8569,-50.4587 778.4808,-44.3041 767.9011,-43.7375 769.8569,-50.4587\"/>\n</g>\n</g>\n</svg>\n"
          },
          "metadata": {
            "tags": []
          }
        }
      ]
    },
    {
      "cell_type": "code",
      "metadata": {
        "id": "GR1xe2SBjI28",
        "colab_type": "code",
        "colab": {
          "base_uri": "https://localhost:8080/",
          "height": 89
        },
        "outputId": "5eb7ede4-c79b-44ba-ff2b-8ad9d63905bf"
      },
      "source": [
        "m = RandomForestRegressor(n_jobs=-1)\n",
        "m.fit(X_train, y_train)\n",
        "print_score(m)"
      ],
      "execution_count": 26,
      "outputs": [
        {
          "output_type": "stream",
          "text": [
            "/usr/local/lib/python3.6/dist-packages/sklearn/ensemble/forest.py:245: FutureWarning: The default value of n_estimators will change from 10 in version 0.20 to 100 in 0.22.\n",
            "  \"10 in version 0.20 to 100 in 0.22.\", FutureWarning)\n"
          ],
          "name": "stderr"
        },
        {
          "output_type": "stream",
          "text": [
            "[0.09336152418133604, 0.2539493433152173, 0.9817832586311727, 0.8848292586869656]\n"
          ],
          "name": "stdout"
        }
      ]
    },
    {
      "cell_type": "code",
      "metadata": {
        "id": "w4gK0Q5bm7th",
        "colab_type": "code",
        "colab": {
          "base_uri": "https://localhost:8080/",
          "height": 104
        },
        "outputId": "4186b4cc-cece-483b-bce9-4a32225c8500"
      },
      "source": [
        "preds = np.stack([t.predict(X_valid) for t in m.estimators_])\n",
        "preds[:,0], np.mean(preds[:,0]), y_valid[:1]"
      ],
      "execution_count": 27,
      "outputs": [
        {
          "output_type": "execute_result",
          "data": {
            "text/plain": [
              "(array([9.15904708, 9.02401079, 9.21034037, 9.10497986, 9.10497986,\n",
              "        9.21034037, 9.10497986, 9.21034037, 9.10497986, 9.01796848]),\n",
              " 9.125196689190402,\n",
              " 389125    9.10498\n",
              " Name: SalePrice, dtype: float64)"
            ]
          },
          "metadata": {
            "tags": []
          },
          "execution_count": 27
        }
      ]
    },
    {
      "cell_type": "code",
      "metadata": {
        "id": "UtWNQhWlnBFq",
        "colab_type": "code",
        "colab": {
          "base_uri": "https://localhost:8080/",
          "height": 265
        },
        "outputId": "ad1dd7c8-6997-46bc-fdd3-892171417cb8"
      },
      "source": [
        "from sklearn.metrics import r2_score\n",
        "plt.plot([r2_score(y_valid, np.mean(preds[:i+1], axis=0)) for i in range(10)]);"
      ],
      "execution_count": 28,
      "outputs": [
        {
          "output_type": "display_data",
          "data": {
            "image/png": "[encoded data removed]",
            "text/plain": [
              "<Figure size 432x288 with 1 Axes>"
            ]
          },
          "metadata": {
            "tags": []
          }
        }
      ]
    },
    {
      "cell_type": "markdown",
      "metadata": {
        "id": "utDREmp7oUgV",
        "colab_type": "text"
      },
      "source": [
        "# Playing with hyperparameter"
      ]
    },
    {
      "cell_type": "code",
      "metadata": {
        "id": "qPZRORS0nEsw",
        "colab_type": "code",
        "colab": {
          "base_uri": "https://localhost:8080/",
          "height": 35
        },
        "outputId": "a46c1b13-a4ec-4451-9ecc-0a14925c5591"
      },
      "source": [
        "m = RandomForestRegressor(n_estimators=25, min_samples_leaf=3, max_features=0.5, n_jobs=-1, oob_score=True)\n",
        "m.fit(X_train, y_train)\n",
        "print_score(m) #I like this model"
      ],
      "execution_count": 29,
      "outputs": [
        {
          "output_type": "stream",
          "text": [
            "[0.13577526456026323, 0.2373811145537504, 0.9614720287223619, 0.8993670270065851, 0.899984243945197]\n"
          ],
          "name": "stdout"
        }
      ]
    },
    {
      "cell_type": "code",
      "metadata": {
        "id": "Blk3zFdMnQ1f",
        "colab_type": "code",
        "colab": {
          "base_uri": "https://localhost:8080/",
          "height": 35
        },
        "outputId": "8d7df7ff-b985-4e79-c07f-f1c7cb06cfac"
      },
      "source": [
        "m = RandomForestRegressor(n_estimators=30, min_samples_leaf=4, max_features='sqrt', n_jobs=-1, oob_score=True)\n",
        "m.fit(X_train, y_train)\n",
        "print_score(m)"
      ],
      "execution_count": 30,
      "outputs": [
        {
          "output_type": "stream",
          "text": [
            "[0.19816805458174272, 0.2673043311676054, 0.9179266580330565, 0.8723972701564614, 0.876825239741552]\n"
          ],
          "name": "stdout"
        }
      ]
    },
    {
      "cell_type": "code",
      "metadata": {
        "id": "HUESXrhCnmKg",
        "colab_type": "code",
        "colab": {
          "base_uri": "https://localhost:8080/",
          "height": 89
        },
        "outputId": "029ea842-d1cc-4d42-9464-1fec20de6f1e"
      },
      "source": [
        "m = RandomForestRegressor(n_estimators=30, min_samples_leaf=2, max_features=3, n_jobs=-1, oob_score=True)\n",
        "m.fit(X_train, y_train)\n",
        "print_score(m) #not good"
      ],
      "execution_count": 31,
      "outputs": [
        {
          "output_type": "stream",
          "text": [
            "/usr/local/lib/python3.6/dist-packages/sklearn/ensemble/forest.py:737: UserWarning: Some inputs do not have OOB scores. This probably means too few trees were used to compute any reliable oob estimates.\n",
            "  warn(\"Some inputs do not have OOB scores. \"\n"
          ],
          "name": "stderr"
        },
        {
          "output_type": "stream",
          "text": [
            "[0.20657445683428494, 0.3032565494510219, 0.91081577040365, 0.8357640026190735, 0.8504844843571633]\n"
          ],
          "name": "stdout"
        }
      ]
    },
    {
      "cell_type": "code",
      "metadata": {
        "id": "g1-05cVYn0gK",
        "colab_type": "code",
        "colab": {
          "base_uri": "https://localhost:8080/",
          "height": 89
        },
        "outputId": "2f93d503-7dbd-4f60-a654-618503093f89"
      },
      "source": [
        "m = RandomForestRegressor(n_estimators=20, min_samples_leaf=3, max_features=0.5, n_jobs=-1, oob_score=True)\n",
        "m.fit(X_train, y_train)\n",
        "print_score(m)"
      ],
      "execution_count": 32,
      "outputs": [
        {
          "output_type": "stream",
          "text": [
            "/usr/local/lib/python3.6/dist-packages/sklearn/ensemble/forest.py:737: UserWarning: Some inputs do not have OOB scores. This probably means too few trees were used to compute any reliable oob estimates.\n",
            "  warn(\"Some inputs do not have OOB scores. \"\n"
          ],
          "name": "stderr"
        },
        {
          "output_type": "stream",
          "text": [
            "[0.13691192576310823, 0.23890307039838618, 0.9608242441511357, 0.8980724848798742, 0.8759513224545226]\n"
          ],
          "name": "stdout"
        }
      ]
    },
    {
      "cell_type": "markdown",
      "metadata": {
        "id": "Y0voEZtWobut",
        "colab_type": "text"
      },
      "source": [
        "# Confidence Interval\n",
        "\n",
        "Normally, we do not just want a prediction — we also want to know how confident we are of that prediction.\n",
        "\n",
        "What if we took the standard deviation of the predictions of the trees? If the standard deviation is high, that means each tree is giving us a very different estimate of this row’s prediction. If this was a really common kind of row, the trees would have learned to make good predictions for it because it has seen lots of opportunities to split based on those kind of rows. So the standard deviation of the predictions across the trees gives us at least relative understanding of how confident we are of this prediction.\n",
        "\n",
        "### Standard deviation should be close to zero"
      ]
    },
    {
      "cell_type": "code",
      "metadata": {
        "id": "z7j1DIWzoBml",
        "colab_type": "code",
        "colab": {
          "base_uri": "https://localhost:8080/",
          "height": 69
        },
        "outputId": "4db6debc-b8c7-4a38-d43e-6de30149aa16"
      },
      "source": [
        "%time preds = np.stack([t.predict(X_valid) for t in m.estimators_])\n",
        "np.mean(preds[:,0]), np.std(preds[:,0])"
      ],
      "execution_count": 33,
      "outputs": [
        {
          "output_type": "stream",
          "text": [
            "CPU times: user 119 ms, sys: 995 µs, total: 120 ms\n",
            "Wall time: 121 ms\n"
          ],
          "name": "stdout"
        },
        {
          "output_type": "execute_result",
          "data": {
            "text/plain": [
              "(9.173632091439218, 0.13778366972444908)"
            ]
          },
          "metadata": {
            "tags": []
          },
          "execution_count": 33
        }
      ]
    },
    {
      "cell_type": "markdown",
      "metadata": {
        "id": "Q8mKpz8arNFN",
        "colab_type": "text"
      },
      "source": [
        "<center>The standard deviation is a description of the data's spread, how widely it is distributed about the mean.  A smaller standard deviation indicates that more of the data is clustered about the mean.  A larger one indicates the data are more spread out.</center>"
      ]
    },
    {
      "cell_type": "code",
      "metadata": {
        "id": "9a7oUiSJtFV6",
        "colab_type": "code",
        "colab": {}
      },
      "source": [
        "raw_train, raw_valid = split_vals(data_prac, n_trn)"
      ],
      "execution_count": 0,
      "outputs": []
    },
    {
      "cell_type": "code",
      "metadata": {
        "id": "ON1USmntqoFy",
        "colab_type": "code",
        "colab": {
          "base_uri": "https://localhost:8080/",
          "height": 265
        },
        "outputId": "70bba1ff-713f-4b4d-bf33-38c0a3b52335"
      },
      "source": [
        "x = raw_valid.copy()\n",
        "x['pred'] = np.std(preds, axis=0)\n",
        "x['pred_std'] = np.std(preds, axis=0)\n",
        "x.Enclosure_new.value_counts().plot.barh();"
      ],
      "execution_count": 47,
      "outputs": [
        {
          "output_type": "display_data",
          "data": {
            "image/png": "[encoded data removed]",
            "text/plain": [
              "<Figure size 432x288 with 1 Axes>"
            ]
          },
          "metadata": {
            "tags": []
          }
        }
      ]
    },
    {
      "cell_type": "code",
      "metadata": {
        "id": "aOwzVtY6sg6H",
        "colab_type": "code",
        "colab": {
          "base_uri": "https://localhost:8080/",
          "height": 138
        },
        "outputId": "0236f8ec-a545-4757-87ca-f93ac6166951"
      },
      "source": [
        "flds = ['Enclosure_new', 'SalePrice', 'pred', 'pred_std']\n",
        "enc_summ = x[flds].groupby('Enclosure_new', as_index=False).mean()\n",
        "enc_summ"
      ],
      "execution_count": 50,
      "outputs": [
        {
          "output_type": "execute_result",
          "data": {
            "text/html": [
              "<div>\n",
              "<style scoped>\n",
              "    .dataframe tbody tr th:only-of-type {\n",
              "        vertical-align: middle;\n",
              "    }\n",
              "\n",
              "    .dataframe tbody tr th {\n",
              "        vertical-align: top;\n",
              "    }\n",
              "\n",
              "    .dataframe thead th {\n",
              "        text-align: right;\n",
              "    }\n",
              "</style>\n",
              "<table border=\"1\" class=\"dataframe\">\n",
              "  <thead>\n",
              "    <tr style=\"text-align: right;\">\n",
              "      <th></th>\n",
              "      <th>Enclosure_new</th>\n",
              "      <th>SalePrice</th>\n",
              "      <th>pred</th>\n",
              "      <th>pred_std</th>\n",
              "    </tr>\n",
              "  </thead>\n",
              "  <tbody>\n",
              "    <tr>\n",
              "      <th>0</th>\n",
              "      <td>0.0</td>\n",
              "      <td>10.623971</td>\n",
              "      <td>0.231293</td>\n",
              "      <td>0.231293</td>\n",
              "    </tr>\n",
              "    <tr>\n",
              "      <th>1</th>\n",
              "      <td>1.0</td>\n",
              "      <td>9.682133</td>\n",
              "      <td>0.191832</td>\n",
              "      <td>0.191832</td>\n",
              "    </tr>\n",
              "    <tr>\n",
              "      <th>2</th>\n",
              "      <td>2.0</td>\n",
              "      <td>9.849178</td>\n",
              "      <td>0.239041</td>\n",
              "      <td>0.239041</td>\n",
              "    </tr>\n",
              "  </tbody>\n",
              "</table>\n",
              "</div>"
            ],
            "text/plain": [
              "   Enclosure_new  SalePrice      pred  pred_std\n",
              "0            0.0  10.623971  0.231293  0.231293\n",
              "1            1.0   9.682133  0.191832  0.191832\n",
              "2            2.0   9.849178  0.239041  0.239041"
            ]
          },
          "metadata": {
            "tags": []
          },
          "execution_count": 50
        }
      ]
    },
    {
      "cell_type": "markdown",
      "metadata": {
        "id": "6LF0vQxct5fj",
        "colab_type": "text"
      },
      "source": [
        "<center><b>For model interpretation, there is no need to use the full dataset because we do not need a massively accurate random forest — we just need one which indicates the nature of relationships involved</center>"
      ]
    },
    {
      "cell_type": "code",
      "metadata": {
        "id": "cCu7SOAys483",
        "colab_type": "code",
        "colab": {
          "base_uri": "https://localhost:8080/",
          "height": 282
        },
        "outputId": "491014ab-24a5-43ea-9af8-809e77f16144"
      },
      "source": [
        "raw_valid.ProductSize_new.value_counts().plot.barh()"
      ],
      "execution_count": 51,
      "outputs": [
        {
          "output_type": "execute_result",
          "data": {
            "text/plain": [
              "<matplotlib.axes._subplots.AxesSubplot at 0x7fa4f9cc89e8>"
            ]
          },
          "metadata": {
            "tags": []
          },
          "execution_count": 51
        },
        {
          "output_type": "display_data",
          "data": {
            "image/png": "[encoded data removed]",
            "text/plain": [
              "<Figure size 432x288 with 1 Axes>"
            ]
          },
          "metadata": {
            "tags": []
          }
        }
      ]
    },
    {
      "cell_type": "code",
      "metadata": {
        "id": "4CqYicacugEc",
        "colab_type": "code",
        "colab": {
          "base_uri": "https://localhost:8080/",
          "height": 282
        },
        "outputId": "d8ad37b6-55c9-48ee-b057-fe243a99e8fc"
      },
      "source": [
        "plt.plot(raw_valid.ProductSize_new, '.')"
      ],
      "execution_count": 58,
      "outputs": [
        {
          "output_type": "execute_result",
          "data": {
            "text/plain": [
              "[<matplotlib.lines.Line2D at 0x7fa4f87f9208>]"
            ]
          },
          "metadata": {
            "tags": []
          },
          "execution_count": 58
        },
        {
          "output_type": "display_data",
          "data": {
            "image/png": "[encoded data removed]",
            "text/plain": [
              "<Figure size 432x288 with 1 Axes>"
            ]
          },
          "metadata": {
            "tags": []
          }
        }
      ]
    },
    {
      "cell_type": "code",
      "metadata": {
        "id": "wAO4JTarun74",
        "colab_type": "code",
        "colab": {}
      },
      "source": [
        "import seaborn as sb"
      ],
      "execution_count": 0,
      "outputs": []
    },
    {
      "cell_type": "code",
      "metadata": {
        "id": "jv6WQS09vgiY",
        "colab_type": "code",
        "colab": {
          "base_uri": "https://localhost:8080/",
          "height": 297
        },
        "outputId": "1c0d19c4-4df3-4f73-bd9f-690ec9dfca03"
      },
      "source": [
        "sb.distplot(raw_valid.ProductSize_new)"
      ],
      "execution_count": 60,
      "outputs": [
        {
          "output_type": "execute_result",
          "data": {
            "text/plain": [
              "<matplotlib.axes._subplots.AxesSubplot at 0x7fa4f83fe668>"
            ]
          },
          "metadata": {
            "tags": []
          },
          "execution_count": 60
        },
        {
          "output_type": "display_data",
          "data": {
            "image/png": "[encoded data removed]",
            "text/plain": [
              "<Figure size 432x288 with 1 Axes>"
            ]
          },
          "metadata": {
            "tags": []
          }
        }
      ]
    },
    {
      "cell_type": "code",
      "metadata": {
        "id": "EGLCM1AIvsTg",
        "colab_type": "code",
        "colab": {
          "base_uri": "https://localhost:8080/",
          "height": 334
        },
        "outputId": "7283605b-7eb1-4cdf-bad8-fc8794634954"
      },
      "source": [
        "plt.hist(raw_valid.ProductSize_new)"
      ],
      "execution_count": 65,
      "outputs": [
        {
          "output_type": "execute_result",
          "data": {
            "text/plain": [
              "(array([1549.,    0.,  624.,    0., 8018.,    0., 1369.,    0.,  297.,\n",
              "         143.]),\n",
              " array([0. , 0.5, 1. , 1.5, 2. , 2.5, 3. , 3.5, 4. , 4.5, 5. ]),\n",
              " <a list of 10 Patch objects>)"
            ]
          },
          "metadata": {
            "tags": []
          },
          "execution_count": 65
        },
        {
          "output_type": "display_data",
          "data": {
            "image/png": "[encoded data removed]",
            "text/plain": [
              "<Figure size 432x288 with 1 Axes>"
            ]
          },
          "metadata": {
            "tags": []
          }
        }
      ]
    },
    {
      "cell_type": "markdown",
      "metadata": {
        "id": "pWFi21oa1J1r",
        "colab_type": "text"
      },
      "source": [
        "# Feature Importance"
      ]
    },
    {
      "cell_type": "code",
      "metadata": {
        "id": "rOd7GKyXwCOD",
        "colab_type": "code",
        "colab": {}
      },
      "source": [
        "feature_importances = pd.DataFrame(m.feature_importances_,\n",
        "                                   index = X.columns,\n",
        "                                    columns=['importance']).sort_values('importance',  ascending=False)"
      ],
      "execution_count": 0,
      "outputs": []
    },
    {
      "cell_type": "code",
      "metadata": {
        "id": "HMFQEx_k1RI2",
        "colab_type": "code",
        "colab": {
          "base_uri": "https://localhost:8080/",
          "height": 198
        },
        "outputId": "2d060753-3e53-4082-ac5a-4ec8e8bc5f4d"
      },
      "source": [
        "feature_importances.head()"
      ],
      "execution_count": 67,
      "outputs": [
        {
          "output_type": "execute_result",
          "data": {
            "text/html": [
              "<div>\n",
              "<style scoped>\n",
              "    .dataframe tbody tr th:only-of-type {\n",
              "        vertical-align: middle;\n",
              "    }\n",
              "\n",
              "    .dataframe tbody tr th {\n",
              "        vertical-align: top;\n",
              "    }\n",
              "\n",
              "    .dataframe thead th {\n",
              "        text-align: right;\n",
              "    }\n",
              "</style>\n",
              "<table border=\"1\" class=\"dataframe\">\n",
              "  <thead>\n",
              "    <tr style=\"text-align: right;\">\n",
              "      <th></th>\n",
              "      <th>importance</th>\n",
              "    </tr>\n",
              "  </thead>\n",
              "  <tbody>\n",
              "    <tr>\n",
              "      <th>Enclosure_new</th>\n",
              "      <td>0.202817</td>\n",
              "    </tr>\n",
              "    <tr>\n",
              "      <th>YearMade</th>\n",
              "      <td>0.122691</td>\n",
              "    </tr>\n",
              "    <tr>\n",
              "      <th>ModelID</th>\n",
              "      <td>0.099894</td>\n",
              "    </tr>\n",
              "    <tr>\n",
              "      <th>ProductSize_new</th>\n",
              "      <td>0.064608</td>\n",
              "    </tr>\n",
              "    <tr>\n",
              "      <th>saleyear</th>\n",
              "      <td>0.064607</td>\n",
              "    </tr>\n",
              "  </tbody>\n",
              "</table>\n",
              "</div>"
            ],
            "text/plain": [
              "                 importance\n",
              "Enclosure_new      0.202817\n",
              "YearMade           0.122691\n",
              "ModelID            0.099894\n",
              "ProductSize_new    0.064608\n",
              "saleyear           0.064607"
            ]
          },
          "metadata": {
            "tags": []
          },
          "execution_count": 67
        }
      ]
    },
    {
      "cell_type": "code",
      "metadata": {
        "id": "Bb6LHo4F1Upl",
        "colab_type": "code",
        "colab": {
          "base_uri": "https://localhost:8080/",
          "height": 880
        },
        "outputId": "5b3a3aef-7f48-488b-8d79-9ffc047aa967"
      },
      "source": [
        "feature_importances.plot.barh(figsize=(20,15))"
      ],
      "execution_count": 68,
      "outputs": [
        {
          "output_type": "execute_result",
          "data": {
            "text/plain": [
              "<matplotlib.axes._subplots.AxesSubplot at 0x7fa4a01facc0>"
            ]
          },
          "metadata": {
            "tags": []
          },
          "execution_count": 68
        },
        {
          "output_type": "display_data",
          "data": {
            "image/png": "[encoded data removed]",
            "text/plain": [
              "<Figure size 1440x1080 with 1 Axes>"
            ]
          },
          "metadata": {
            "tags": []
          }
        }
      ]
    },
    {
      "cell_type": "code",
      "metadata": {
        "id": "uv_8z1XA1W9F",
        "colab_type": "code",
        "colab": {}
      },
      "source": [
        "def to_keep(data, column, sep_value): return data.loc[data[f'{column}']>sep_value], data.loc[data[f'{column}']>sep_value].index"
      ],
      "execution_count": 0,
      "outputs": []
    },
    {
      "cell_type": "code",
      "metadata": {
        "id": "SsDYjxXO1aYQ",
        "colab_type": "code",
        "colab": {}
      },
      "source": [
        "toKeep, importantCol = to_keep(feature_importances, 'importance', 0.03)"
      ],
      "execution_count": 0,
      "outputs": []
    },
    {
      "cell_type": "code",
      "metadata": {
        "id": "A8DwEloP1dQ0",
        "colab_type": "code",
        "colab": {
          "base_uri": "https://localhost:8080/",
          "height": 880
        },
        "outputId": "0334219f-0765-4fdb-adc7-95b69abc24a4"
      },
      "source": [
        "toKeep.plot.barh(figsize=(20,15))"
      ],
      "execution_count": 71,
      "outputs": [
        {
          "output_type": "execute_result",
          "data": {
            "text/plain": [
              "<matplotlib.axes._subplots.AxesSubplot at 0x7fa49e8a54a8>"
            ]
          },
          "metadata": {
            "tags": []
          },
          "execution_count": 71
        },
        {
          "output_type": "display_data",
          "data": {
            "image/png": "[encoded data removed]",
            "text/plain": [
              "<Figure size 1440x1080 with 1 Axes>"
            ]
          },
          "metadata": {
            "tags": []
          }
        }
      ]
    },
    {
      "cell_type": "code",
      "metadata": {
        "id": "U2za0L7T1g7M",
        "colab_type": "code",
        "colab": {
          "base_uri": "https://localhost:8080/",
          "height": 35
        },
        "outputId": "40ee35ac-020b-4d3d-dcb6-c72f1502afdf"
      },
      "source": [
        "df_keep = X[importantCol].copy(); df_keep.shape"
      ],
      "execution_count": 84,
      "outputs": [
        {
          "output_type": "execute_result",
          "data": {
            "text/plain": [
              "(401125, 12)"
            ]
          },
          "metadata": {
            "tags": []
          },
          "execution_count": 84
        }
      ]
    },
    {
      "cell_type": "code",
      "metadata": {
        "id": "cQhuBpJG1z2h",
        "colab_type": "code",
        "colab": {}
      },
      "source": [
        "X_train, X_valid = split_vals(df_keep, 30000)\n",
        "y_train, y_valid = split_vals(y, 30000)"
      ],
      "execution_count": 0,
      "outputs": []
    },
    {
      "cell_type": "code",
      "metadata": {
        "id": "-SkxlGTf1_sa",
        "colab_type": "code",
        "colab": {
          "base_uri": "https://localhost:8080/",
          "height": 35
        },
        "outputId": "367c595f-e427-47ce-8090-67d5e5c08459"
      },
      "source": [
        "X_train.shape, y_train.shape"
      ],
      "execution_count": 89,
      "outputs": [
        {
          "output_type": "execute_result",
          "data": {
            "text/plain": [
              "((30000, 12), (30000,))"
            ]
          },
          "metadata": {
            "tags": []
          },
          "execution_count": 89
        }
      ]
    },
    {
      "cell_type": "code",
      "metadata": {
        "id": "DzejM95n2Evy",
        "colab_type": "code",
        "colab": {
          "base_uri": "https://localhost:8080/",
          "height": 124
        },
        "outputId": "a6a2bdd7-9702-453b-beba-64c2964f6686"
      },
      "source": [
        "m = RandomForestRegressor(n_estimators=20, min_samples_leaf=3, max_features=1, n_jobs=-1, oob_score=True, random_state=23)\n",
        "%time m.fit(X_train, y_train)\n",
        "print_score(m)"
      ],
      "execution_count": 112,
      "outputs": [
        {
          "output_type": "stream",
          "text": [
            "/usr/local/lib/python3.6/dist-packages/sklearn/ensemble/forest.py:737: UserWarning: Some inputs do not have OOB scores. This probably means too few trees were used to compute any reliable oob estimates.\n",
            "  warn(\"Some inputs do not have OOB scores. \"\n"
          ],
          "name": "stderr"
        },
        {
          "output_type": "stream",
          "text": [
            "CPU times: user 601 ms, sys: 8.98 ms, total: 610 ms\n",
            "Wall time: 384 ms\n",
            "[0.20707245705967725, 0.5008254481046405, 0.9156090223152359, 0.4759926259694843, 0.7998867793034343]\n"
          ],
          "name": "stdout"
        }
      ]
    },
    {
      "cell_type": "code",
      "metadata": {
        "id": "0q-Lzsnn2j1J",
        "colab_type": "code",
        "colab": {}
      },
      "source": [
        "feature_importances = pd.DataFrame(m.feature_importances_,\n",
        "                                   index = X_train.columns,\n",
        "                                    columns=['importance']).sort_values('importance',  ascending=False)"
      ],
      "execution_count": 0,
      "outputs": []
    },
    {
      "cell_type": "code",
      "metadata": {
        "id": "C3RD-sa047s1",
        "colab_type": "code",
        "colab": {
          "base_uri": "https://localhost:8080/",
          "height": 880
        },
        "outputId": "c7f0f0d4-94b0-4b96-f3a2-a482d452c9e0"
      },
      "source": [
        "feature_importances.plot.barh(figsize=(20,15))"
      ],
      "execution_count": 110,
      "outputs": [
        {
          "output_type": "execute_result",
          "data": {
            "text/plain": [
              "<matplotlib.axes._subplots.AxesSubplot at 0x7fa49e7cae10>"
            ]
          },
          "metadata": {
            "tags": []
          },
          "execution_count": 110
        },
        {
          "output_type": "display_data",
          "data": {
            "image/png": "[encoded data removed]",
            "text/plain": [
              "<Figure size 1440x1080 with 1 Axes>"
            ]
          },
          "metadata": {
            "tags": []
          }
        }
      ]
    },
    {
      "cell_type": "code",
      "metadata": {
        "id": "3WvNwuQw6O1u",
        "colab_type": "code",
        "colab": {}
      },
      "source": [
        ""
      ],
      "execution_count": 0,
      "outputs": []
    }
  ]
}